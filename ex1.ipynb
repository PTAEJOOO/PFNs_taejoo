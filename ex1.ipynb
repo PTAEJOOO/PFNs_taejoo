{
 "cells": [
  {
   "cell_type": "code",
   "execution_count": 1,
   "metadata": {},
   "outputs": [
    {
     "name": "stderr",
     "output_type": "stream",
     "text": [
      "c:\\Users\\82109\\anaconda3\\envs\\my_pfns4bo\\lib\\site-packages\\tqdm\\auto.py:21: TqdmWarning: IProgress not found. Please update jupyter and ipywidgets. See https://ipywidgets.readthedocs.io/en/stable/user_install.html\n",
      "  from .autonotebook import tqdm as notebook_tqdm\n"
     ]
    }
   ],
   "source": [
    "import torch\n",
    "import priors\n",
    "\n",
    "from bar_distribution import BarDistribution, FullSupportBarDistribution, get_bucket_limits"
   ]
  },
  {
   "cell_type": "code",
   "execution_count": 2,
   "metadata": {},
   "outputs": [],
   "source": [
    "def get_y_sample(prior):\n",
    "    dl = prior(num_steps=1, batch_size=1000 * 10, seq_len=10, num_features=10)\n",
    "    y_sample = next(iter(dl))[-1]\n",
    "    print(f'Creating Bar distribution with borders from y sample of size {y_sample.numel()}')\n",
    "    return y_sample"
   ]
  },
  {
   "cell_type": "code",
   "execution_count": 3,
   "metadata": {},
   "outputs": [
    {
     "name": "stdout",
     "output_type": "stream",
     "text": [
      "DataLoader.__dict__ {'num_steps': 1, 'fuse_x_y': False, 'get_batch_kwargs': {'batch_size': 10000, 'seq_len': 10, 'num_features': 10}, 'num_features': 10, 'num_outputs': 1}\n",
      "Creating Bar distribution with borders from y sample of size 100000\n",
      "Using 100000 y evals to estimate 10 buckets. Cut off the last 0 ys.\n",
      "(tensor(-1.8503), tensor(1.8832))\n"
     ]
    }
   ],
   "source": [
    "prior = priors.fast_gp.DataLoader\n",
    "ys=get_y_sample(prior)\n",
    "borders = get_bucket_limits(10, ys=ys)"
   ]
  },
  {
   "cell_type": "code",
   "execution_count": null,
   "metadata": {},
   "outputs": [],
   "source": [
    "import numpy as np\n",
    "import matplotlib.pyplot as plt\n",
    "\n",
    "hist, bins = np.histogram(ys.flatten(), bins=borders)\n",
    "\n",
    "plt.bar(bins[1:], hist)\n",
    "\n",
    "plt.title('Bar Plot Example')\n",
    "plt.xlabel('Y')\n",
    "plt.ylabel('Density')\n",
    "\n",
    "plt.show()"
   ]
  },
  {
   "cell_type": "code",
   "execution_count": 5,
   "metadata": {},
   "outputs": [],
   "source": [
    "criterion = FullSupportBarDistribution(borders=borders)"
   ]
  },
  {
   "cell_type": "code",
   "execution_count": 6,
   "metadata": {},
   "outputs": [
    {
     "data": {
      "text/plain": [
       "FullSupportBarDistribution()"
      ]
     },
     "execution_count": 6,
     "metadata": {},
     "output_type": "execute_result"
    }
   ],
   "source": [
    "criterion"
   ]
  }
 ],
 "metadata": {
  "kernelspec": {
   "display_name": "my_pfns4bo",
   "language": "python",
   "name": "python3"
  },
  "language_info": {
   "codemirror_mode": {
    "name": "ipython",
    "version": 3
   },
   "file_extension": ".py",
   "mimetype": "text/x-python",
   "name": "python",
   "nbconvert_exporter": "python",
   "pygments_lexer": "ipython3",
   "version": "3.9.18"
  }
 },
 "nbformat": 4,
 "nbformat_minor": 2
}
